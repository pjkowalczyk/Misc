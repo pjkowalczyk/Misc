{
 "cells": [
  {
   "cell_type": "markdown",
   "metadata": {},
   "source": [
    "# bioalerts Tutorial\n",
    "### **bioalerts: A Python Package for the Derivation of Structural Alerts from Bioactivity Data Sets**\n",
    "\n",
    "\n",
    "Isidro Cortés Ciriano (isidrolauscher@gmail.com). 2015.\n",
    "\n"
   ]
  },
  {
   "cell_type": "markdown",
   "metadata": {},
   "source": [
    "This tutorial illustrates the functionaties provided by the three modules (*LoadMolecules, Alerts, FPCalculator*) comprised in the package library **bioalerts**.\n"
   ]
  },
  {
   "cell_type": "markdown",
   "metadata": {},
   "source": [
    "Firstly, import **bioalerts** and other packages required for this tutorial.\n",
    "\n",
    "\n",
    "Note: do not forget to add the path to your python envirnonment variable, e.g.:\n",
    "export PYTHONPATH=$PYTHONPATH:/usr/local/share/RDKit:/Users/user1/Desktop/bioalerts/"
   ]
  },
  {
   "cell_type": "code",
   "execution_count": 11,
   "metadata": {},
   "outputs": [],
   "source": [
    "import sys\n",
    "sys.path.insert(0, 'C:/Users/us16120/Projects/Cheminformatics/bioalerts/bioalerts/')\n",
    "import bioalerts"
   ]
  },
  {
   "cell_type": "code",
   "execution_count": 14,
   "metadata": {},
   "outputs": [],
   "source": [
    "import sys\n",
    "new_path = 'C:/Users/us16120/Projects/Cheminformatics/bioalerts/bioalerts/'\n",
    "\n",
    "if new_path not in sys.path:\n",
    "    sys.path.append(new_path)"
   ]
  },
  {
   "cell_type": "code",
   "execution_count": 38,
   "metadata": {},
   "outputs": [],
   "source": [
    "import LoadMolecules"
   ]
  },
  {
   "cell_type": "code",
   "execution_count": 20,
   "metadata": {},
   "outputs": [],
   "source": [
    "import Alerts"
   ]
  },
  {
   "cell_type": "code",
   "execution_count": 22,
   "metadata": {},
   "outputs": [],
   "source": [
    "import FPCalculator"
   ]
  },
  {
   "cell_type": "code",
   "execution_count": 23,
   "metadata": {},
   "outputs": [],
   "source": [
    "import numpy as np"
   ]
  },
  {
   "cell_type": "code",
   "execution_count": 24,
   "metadata": {},
   "outputs": [],
   "source": [
    "# from bioalerts import LoadMolecules, Alerts, FPCalculator"
   ]
  },
  {
   "cell_type": "code",
   "execution_count": 25,
   "metadata": {},
   "outputs": [],
   "source": [
    "from rdkit.Chem.Draw import IPythonConsole\n",
    "from rdkit.Chem import PandasTools\n",
    "# Machine learning modules\n",
    "import sklearn\n",
    "from sklearn import preprocessing\n",
    "import scipy\n",
    "from sklearn.metrics import mean_squared_error\n",
    "from sklearn.ensemble import RandomForestRegressor\n",
    "from sklearn.metrics import r2_score"
   ]
  },
  {
   "cell_type": "markdown",
   "metadata": {},
   "source": [
    "This tutorial was run with the following python and module versions:"
   ]
  },
  {
   "cell_type": "code",
   "execution_count": 27,
   "metadata": {},
   "outputs": [
    {
     "name": "stderr",
     "output_type": "stream",
     "text": [
      "C:\\Users\\us16120\\Anaconda3\\lib\\site-packages\\ipykernel_launcher.py:2: DeprecationWarning: time.clock has been deprecated in Python 3.3 and will be removed from Python 3.8: use time.perf_counter or time.process_time instead\n",
      "  \n"
     ]
    }
   ],
   "source": [
    "import time\n",
    "initial_time = time.clock()"
   ]
  },
  {
   "cell_type": "markdown",
   "metadata": {},
   "source": [
    "# The following three data sets will be used in this tutorial:\n",
    "\n",
    "1. Derivation of Structural Alerts from categorical bioactivity data: \n",
    "\n",
    "    **Ames mutagenicity data**:\n",
    "     1 indicates Ames positive (i.e. causes mutations in bacteria), and 0 Ames negative. \n",
    "     Extracted from Young et al. Chemometrics and Intelligent Laboratory Systems 60 (2002) 5–11.\n",
    "     \n",
    "        \n",
    "2. Derivation of Structural Alerts from continuous bioactivity data:\n",
    "\n",
    "    **Human cyclooxygenase (COX) 2**: \n",
    "     Compound activity is encoded with pIC50 values.\n",
    "     Extracted from Cortés-Ciriano et al. Journal of Cheminformatics 2015, 7:1.    \n",
    "     \n",
    "3. Calculation of Morgan hashed and unhashed fingerprints and their application in predictive bioactivity modelling:\n",
    "\n",
    "    **Blood-brain barrier (BBB)**:\n",
    "     Blood–brain barrier permeability for organic compounds.\n",
    "     Extracted from Zhang et al. Pharmaceutical Research 2008, Vol. 25, No. 8."
   ]
  },
  {
   "cell_type": "markdown",
   "metadata": {},
   "source": [
    "# A. Reading molecules and extracting their substructures"
   ]
  },
  {
   "cell_type": "markdown",
   "metadata": {},
   "source": [
    "### A.1 Class to read the molecules:\n",
    "    bioalerts.LoadMolecules"
   ]
  },
  {
   "cell_type": "code",
   "execution_count": 29,
   "metadata": {},
   "outputs": [
    {
     "name": "stdout",
     "output_type": "stream",
     "text": [
      "Format of the structures file = SDF\n",
      "265 molecules (starting at zero) could not be processed.\n",
      "\n",
      "This information has been saved in the following file: incorrect_molecules.csv\n",
      "\n",
      "NOTE: the indexes of the molecules start at zero. Thus the first molecule is molecule 0.\n",
      "Total number of input molecules:  1753\n"
     ]
    }
   ],
   "source": [
    "molecules = LoadMolecules.LoadMolecules(\"./datasets/Young_2002.sdf\",\n",
    "                                                  verbose=False)\n",
    "molecules.ReadMolecules()\n",
    "print(\"Total number of input molecules: \", len(molecules.mols))"
   ]
  },
  {
   "cell_type": "markdown",
   "metadata": {},
   "source": [
    "As indicated in the printed message, the indices corresponding to the molecules that were not correctly processed by *rdkit* are saved to the file **incorrect_molecules.csv**.\n",
    "Given that we are using python, these indices start at zero. Thus, be careful when reading these files with other scripting languages, e.g. R."
   ]
  },
  {
   "cell_type": "markdown",
   "metadata": {},
   "source": [
    "We will now divide the molecules into a test set (10%), and a training set (90%)."
   ]
  },
  {
   "cell_type": "code",
   "execution_count": 30,
   "metadata": {},
   "outputs": [
    {
     "name": "stdout",
     "output_type": "stream",
     "text": [
      "1753 176 1577\n"
     ]
    }
   ],
   "source": [
    "stride = int(len(molecules.mols) * 0.9)\n",
    "training = molecules.mols[0:stride]\n",
    "test = molecules.mols[stride:len(molecules.mols)]\n",
    "print(len(molecules.mols), len(test), len(training))"
   ]
  },
  {
   "cell_type": "code",
   "execution_count": 31,
   "metadata": {},
   "outputs": [
    {
     "data": {
      "text/plain": [
       "['100-03-8', '100-21-0', '100-22-1', '100-37-8', '100-39-0']"
      ]
     },
     "execution_count": 31,
     "metadata": {},
     "output_type": "execute_result"
    }
   ],
   "source": [
    "molecules.mols_ids[0:5]"
   ]
  },
  {
   "cell_type": "markdown",
   "metadata": {},
   "source": [
    "### A.2 Class to get the substructure IDs: \n",
    "\n",
    "    bioalerts.FPCalculator.GetDataSetInfo()"
   ]
  },
  {
   "cell_type": "markdown",
   "metadata": {},
   "source": [
    "Next, we are going to extract the substructure information from the molecules contained in the training set, which was derived from the data set previously loaded, namely: _./datasets/Young_2002.sdf_.\n",
    "\n",
    "First, initialize the class."
   ]
  },
  {
   "cell_type": "code",
   "execution_count": 32,
   "metadata": {},
   "outputs": [],
   "source": [
    "training_dataset_info = LoadMolecules.GetDataSetInfo()"
   ]
  },
  {
   "cell_type": "code",
   "execution_count": 39,
   "metadata": {},
   "outputs": [
    {
     "ename": "AttributeError",
     "evalue": "'dict' object has no attribute 'iteritems'",
     "output_type": "error",
     "traceback": [
      "\u001b[1;31m---------------------------------------------------------------------------\u001b[0m",
      "\u001b[1;31mAttributeError\u001b[0m                            Traceback (most recent call last)",
      "\u001b[1;32m<ipython-input-39-a12bd27aefa1>\u001b[0m in \u001b[0;36m<module>\u001b[1;34m\u001b[0m\n\u001b[1;32m----> 1\u001b[1;33m \u001b[0mtraining_dataset_info\u001b[0m\u001b[1;33m.\u001b[0m\u001b[0mextract_substructure_information\u001b[0m\u001b[1;33m(\u001b[0m\u001b[0mradii\u001b[0m\u001b[1;33m=\u001b[0m\u001b[1;33m[\u001b[0m\u001b[1;36m2\u001b[0m\u001b[1;33m,\u001b[0m\u001b[1;36m3\u001b[0m\u001b[1;33m,\u001b[0m\u001b[1;36m4\u001b[0m\u001b[1;33m]\u001b[0m\u001b[1;33m,\u001b[0m\u001b[0mmols\u001b[0m\u001b[1;33m=\u001b[0m\u001b[0mtraining\u001b[0m\u001b[1;33m)\u001b[0m\u001b[1;33m\u001b[0m\u001b[1;33m\u001b[0m\u001b[0m\n\u001b[0m",
      "\u001b[1;32mC:/Users/us16120/Projects/Cheminformatics/bioalerts/bioalerts\\LoadMolecules.py\u001b[0m in \u001b[0;36mextract_substructure_information\u001b[1;34m(self, radii, mols)\u001b[0m\n\u001b[0;32m    120\u001b[0m                \u001b[0mmol_id\u001b[0m \u001b[1;33m=\u001b[0m \u001b[0mi\u001b[0m \u001b[1;32mif\u001b[0m \u001b[0mself\u001b[0m\u001b[1;33m.\u001b[0m\u001b[0mname_field\u001b[0m \u001b[1;33m==\u001b[0m \u001b[1;32mNone\u001b[0m \u001b[1;32melse\u001b[0m \u001b[0mm\u001b[0m\u001b[1;33m.\u001b[0m\u001b[0mGetProp\u001b[0m\u001b[1;33m(\u001b[0m\u001b[0mself\u001b[0m\u001b[1;33m.\u001b[0m\u001b[0mname_field\u001b[0m\u001b[1;33m)\u001b[0m\u001b[1;33m\u001b[0m\u001b[1;33m\u001b[0m\u001b[0m\n\u001b[0;32m    121\u001b[0m                \u001b[0mself\u001b[0m\u001b[1;33m.\u001b[0m\u001b[0mmols_ids\u001b[0m\u001b[1;33m.\u001b[0m\u001b[0mappend\u001b[0m\u001b[1;33m(\u001b[0m\u001b[0mmol_id\u001b[0m\u001b[1;33m)\u001b[0m\u001b[1;33m\u001b[0m\u001b[1;33m\u001b[0m\u001b[0m\n\u001b[1;32m--> 122\u001b[1;33m                \u001b[0msubstructure_dictionary\u001b[0m \u001b[1;33m=\u001b[0m \u001b[1;33m{\u001b[0m\u001b[0mk\u001b[0m\u001b[1;33m:\u001b[0m\u001b[1;33m[\u001b[0m\u001b[0mmol_id\u001b[0m\u001b[1;33m]\u001b[0m \u001b[1;32mfor\u001b[0m \u001b[0mk\u001b[0m\u001b[1;33m,\u001b[0m\u001b[0mv\u001b[0m \u001b[1;32min\u001b[0m \u001b[0minfo\u001b[0m\u001b[1;33m.\u001b[0m\u001b[0mitems\u001b[0m\u001b[1;33m(\u001b[0m\u001b[1;33m)\u001b[0m \u001b[1;32mif\u001b[0m \u001b[0mv\u001b[0m\u001b[1;33m[\u001b[0m\u001b[1;36m0\u001b[0m\u001b[1;33m]\u001b[0m\u001b[1;33m[\u001b[0m\u001b[1;36m1\u001b[0m\u001b[1;33m]\u001b[0m \u001b[1;32min\u001b[0m \u001b[0mradii\u001b[0m\u001b[1;33m}\u001b[0m\u001b[1;33m\u001b[0m\u001b[1;33m\u001b[0m\u001b[0m\n\u001b[0m\u001b[0;32m    123\u001b[0m                \u001b[0mself\u001b[0m\u001b[1;33m.\u001b[0m\u001b[0msubstructure_dictionary\u001b[0m \u001b[1;33m=\u001b[0m \u001b[0mself\u001b[0m\u001b[1;33m.\u001b[0m\u001b[0m_combine_dicts\u001b[0m\u001b[1;33m(\u001b[0m\u001b[0msubstructure_dictionary\u001b[0m\u001b[1;33m,\u001b[0m\u001b[0mself\u001b[0m\u001b[1;33m.\u001b[0m\u001b[0msubstructure_dictionary\u001b[0m\u001b[1;33m)\u001b[0m\u001b[1;33m\u001b[0m\u001b[1;33m\u001b[0m\u001b[0m\n\u001b[0;32m    124\u001b[0m         \u001b[0mself\u001b[0m\u001b[1;33m.\u001b[0m\u001b[0mnb_substructures\u001b[0m \u001b[1;33m=\u001b[0m \u001b[0mlen\u001b[0m\u001b[1;33m(\u001b[0m\u001b[0mself\u001b[0m\u001b[1;33m.\u001b[0m\u001b[0msubstructure_dictionary\u001b[0m\u001b[1;33m.\u001b[0m\u001b[0mkeys\u001b[0m\u001b[1;33m(\u001b[0m\u001b[1;33m)\u001b[0m\u001b[1;33m)\u001b[0m\u001b[1;33m\u001b[0m\u001b[1;33m\u001b[0m\u001b[0m\n",
      "\u001b[1;31mAttributeError\u001b[0m: 'dict' object has no attribute 'iteritems'"
     ]
    }
   ],
   "source": [
    "training_dataset_info.extract_substructure_information(radii=[2,3,4],mols=training)"
   ]
  },
  {
   "cell_type": "markdown",
   "metadata": {},
   "source": [
    "We have calculated the substructure information for the molecules in the training set.\n",
    "In this step, we compute a dictionary of substructures and molecules that will be used later to calculate p.values for\n",
    "the substructures present in the molecules from the test set.\n",
    "The keys of the dictionary correspond to substructure IDs, whereas the values correspond to the molecule IDs where a given substructure is present.\n",
    "\n",
    "Only those substructures of a bond radius within the set of radii especified in the argument _radii_ of the method _extract_substructure_information_ are considered. Therefore, in this example the dictionary of substructures will only contain substructures with a bond radius in the set {2,3,4}.\n",
    "\n",
    "The length of the substructure dictionary indicates the total number of distinct substructures present in the training set satisfying the bond radii indicated by the user, whereas the number of keys for each dictionary element indicates the number of distinct molecules in which the substructure is present.\n",
    "\n",
    "For example, the first substructure ID in the dictionary is '4133322759' and appears in molecule 1163:"
   ]
  },
  {
   "cell_type": "code",
   "execution_count": 11,
   "metadata": {},
   "outputs": [
    {
     "name": "stdout",
     "output_type": "stream",
     "text": [
      "16092\n"
     ]
    }
   ],
   "source": [
    "print len(training_dataset_info.substructure_dictionary.keys())"
   ]
  },
  {
   "cell_type": "code",
   "execution_count": 12,
   "metadata": {},
   "outputs": [
    {
     "data": {
      "text/plain": [
       "[1163]"
      ]
     },
     "execution_count": 12,
     "metadata": {},
     "output_type": "execute_result"
    }
   ],
   "source": [
    "training_dataset_info.substructure_dictionary[4133322759]"
   ]
  },
  {
   "cell_type": "markdown",
   "metadata": {},
   "source": [
    "# B. Calculating p.values for substructures. Categorical bioactivity values"
   ]
  },
  {
   "cell_type": "markdown",
   "metadata": {},
   "source": [
    "Now, we will determine whether the substructures present in the molecules from the test set can be considered as structural alerts or not, on the basis of the information contained in the training set. Only those substructures with a bond radius in the set {2,3,4} will be considered in this example, as this was the only bond radius indicated in the argument __extract_substructure_information__ when deriving the dictionary of substructures from the training set. \n",
    "\n",
    "\n",
    "It is important to consider that in this implementation, we do not only focus on the substructural alerts that lead to increased activity. By contrast, we also consider structural alerts that can lead to decreased activity.\n",
    "Most applications of the derivation of substructural alerts have dealt with the identification of chemical moieties leading to toxicity. The aim being to dismiss compounds harboring them from further testing. \n",
    "\n",
    "\n",
    "Nevertheless, in the context of hit identification and lead optimization, it can be of practical relevance to also consider those substructures decreasing activity as some substructures can be beneficial for activity against a particular protein A, whereas deleterious for protein B (which can be e.g. an isoenzyme). \n",
    "Therefore, to attain selectivity towards target A, those substructures deleterious for target B are interesting from a medicinal chemistry standpoint.\n",
    "\n",
    "\n",
    "Here, the probability for a substructure to be a structural alert is derived from the probability density function of the binomial distribution. To put it in simple words, the question we are asking is (**Figure 1A**):\n",
    "\n",
    "\n",
    "Which is the probability of having observed (by chance) **m_S act** active compounds (or more) with a given substructure (**S1**), given that the substructure is present in **n_s** compounds in a data set of **n** compounds where **m** are active?\n",
    "A high probability (i.e. p value) indicates that, by chance, it is very likely to have observed **m_S act** active compounds with substructure **S1**, and thus, substructure **S1** it is not likely to be correlated to activity.\n",
    "By contrast, a low p value indicates that it is not likely to have obtained **m_S act** active compounds with substructure **S1** from the underlying binomial distribution defined by the training set. Thus, it is likely that the presence of substructure **S1** is related to compound activity. "
   ]
  },
  {
   "cell_type": "markdown",
   "metadata": {},
   "source": [
    "#Figure 1\n",
    "<img src=\"scheme.svg\">"
   ]
  },
  {
   "cell_type": "markdown",
   "metadata": {},
   "source": [
    "To calculate the p values for the substructures in the training set with a bond radius -in this example- in the set {2,3,4}, we first load the bioactivities associated to the molecules from the training set, and which can be found in __molecules.mols__"
   ]
  },
  {
   "cell_type": "code",
   "execution_count": 13,
   "metadata": {},
   "outputs": [],
   "source": [
    "bioactivities = np.genfromtxt('./datasets/Young_2002.dat',\n",
    "                              dtype='int',\n",
    "                              skip_header=1,\n",
    "                              usecols=1)\n",
    "arr = np.arange(0,len(bioactivities))\n",
    "mask = np.ones(arr.shape,dtype=bool)\n",
    "mask[molecules.molserr]=0\n",
    "bioactivities =  bioactivities[mask]"
   ]
  },
  {
   "cell_type": "markdown",
   "metadata": {},
   "source": [
    "__molecules.molserr__ is a list containing the indices for the molecules that could not be properly loaded by rdkit.\n",
    "\n",
    "We then check that the number of bioactivities and molecules is the same"
   ]
  },
  {
   "cell_type": "code",
   "execution_count": 14,
   "metadata": {},
   "outputs": [
    {
     "name": "stdout",
     "output_type": "stream",
     "text": [
      "1752\n",
      "1752\n"
     ]
    }
   ],
   "source": [
    "print len(bioactivities)\n",
    "print len(molecules.mols)"
   ]
  },
  {
   "cell_type": "markdown",
   "metadata": {},
   "source": [
    "Next, we divide the bioactivities into two sets, corresponding to the **training** and **test** sets defined above."
   ]
  },
  {
   "cell_type": "code",
   "execution_count": 15,
   "metadata": {},
   "outputs": [
    {
     "name": "stdout",
     "output_type": "stream",
     "text": [
      "1752 176 1576\n"
     ]
    }
   ],
   "source": [
    "bio_training = bioactivities[0:stride]\n",
    "bio_test = bioactivities[stride:len(molecules.mols)]\n",
    "print len(bioactivities), len(bio_test), len(bio_training)"
   ]
  },
  {
   "cell_type": "markdown",
   "metadata": {},
   "source": [
    "We will calculate now the p.values for the substructures present in the molecules from the test set, using the substructure information extracted from the training set.\n",
    "This is done with the method: **bioalerts.Alerts.calculate_p_values()**. \n",
    "In this example, Alerts_categorical.calculate_p_values().\n",
    "\n",
    "In the argument **mols**, we provide a list of molecules for which we want to calculate the substructures and calculate their p values.\n",
    "The method will calculate Morgan fingerprints for these molecules considering as maximal radius the maximal radius\n",
    "of those provided to the method __training_dataset_info.extract_substructure_information()__ (in this case 4), when we extracted the substructure information for the molecules from the training set.\n",
    "\n",
    "As a reference set of molecules and substructures, we provide the substructure dictionary calculated for the training set (__substructure_dictionary=training_dataset_info.substructure_dictionary__). Likewise, we provide the bioactivities for the training set (argument __bioactivities=bio_training__),\n",
    "and the molecules ids for the training set (argument __mols_ids=dataset_info.mols_ids[0:stride]__).\n",
    "\n",
    "We must also provide the threshold for the number of substructures (argument __threshold_nb_substructures = 5__),\n",
    "the p value threshold (argument __threshold_pvalue = 0.05__), and the threshold for the\n",
    "substructure frequency (argument __threshold_frequency = 0.7__).\n",
    "\n",
    "The explanation for these three arguments is as follows:\n",
    "\n",
    "1. __threshold_nb_substructures__: the threshold for the number of substructures indicates the minimum number of compounds in the training set with a given substructure (**n_s**) required to proceed the calculation of the p value for that substructure. For instance, if the thresehold is set to 5, and only 4 compounds from the training set present a given substructure _S_, the algorithm will not calculate the p value for _S_ when applied to the test set.\n",
    "\n",
    "2. __thershold_pvalue__: the p value threshold indicates the level of significance (alpha) to consider a given substructure as structual alert. As said before, the identified strucutural alerts can foster or decrease activity in the biological system under study.\n",
    "\n",
    "3. __threshold_frequency__: the threshold for the substructure frequency corresponds to the ratio **m_S act / n_s**. Therefore, if there are too few active molecules with a given substructure in the set of molecules (active and inactive) with that substructure, the p values will not be computed. It is important to set a threshold frequency as (quoted from Ahlberg et al.):\n",
    "\n",
    "\"For a substructure to make a statistically significant contribution to activity, it is required that the p-value is below this level. Furthermore, the p-value alone is not sufficient for a substructure to accurately describe an activity. Depending on the skew of the data, the accuracy and p-values required for a significant call will intersect differently. For example, in a 50/50 distribution of positives and negatives, the minimum occurrence for which a substructure can be significant depending on whether its p-value is 5, see Figure 1A. For the majority class of the 70/30 example, the accuracy and p-value are intersected at 50 compounds in the data, see Figure 1B, whereas the minority class is intersected already at three compounds, Figure 1C. This means that, in addition to the level of significance, a lowest level of substructure frequency needs to be imposed on the substructures.\n",
    "\n",
    "For data where one activity is overrepresented, unbalanced data, it is possible to obtain significant substructures with only two or three occurrences in the data. To avoid this, a lower bound on the number of compounds in which a substructure exists has to be used, denoted minimum occurrence. The minimum occurrence defaults to 5, which derives from the 50/ 50 distributed data and a p-value of 0.05, see Figure 1A.\""
   ]
  },
  {
   "cell_type": "markdown",
   "metadata": {},
   "source": [
    "First, we instatiate the class bioalerts.Alerts.CalculatePvaluesCategorical()"
   ]
  },
  {
   "cell_type": "code",
   "execution_count": 16,
   "metadata": {},
   "outputs": [
    {
     "name": "stdout",
     "output_type": "stream",
     "text": [
      "Number of substructures processed:  4723\n",
      "Significant substructures:  70 substructures\n"
     ]
    }
   ],
   "source": [
    "Alerts_categorical = bioalerts.Alerts.CalculatePvaluesCategorical(max_radius=4)\n",
    "\n",
    "\n",
    "Alerts_categorical.calculate_p_values(mols=test,\n",
    "                                      substructure_dictionary=training_dataset_info.substructure_dictionary,\n",
    "                                      bioactivities=bio_training,\n",
    "                                      mols_ids=training_dataset_info.mols_ids[0:stride],\n",
    "                                      threshold_nb_substructures = 5,\n",
    "                                      threshold_pvalue = 0.05,\n",
    "                                      threshold_frequency = 0.7,\n",
    "                                      Bonferroni=True)"
   ]
  },
  {
   "cell_type": "markdown",
   "metadata": {},
   "source": [
    "The argument _Bonferroni_ indicates wether the Bonferroni correction should be applied to the p values. The Bonferroni correction, which controls the familywise error rate, consists of multiplying the p values by the total number of substructures for which p values were computed (which corresponds to the number of rows of __Alerts_categorical.output__). Alternatively, one can divide the significance level by the number of computed p values. In that case, the significance level would be then compared to the computed p values to assess the their statistical significance."
   ]
  },
  {
   "cell_type": "code",
   "execution_count": 17,
   "metadata": {},
   "outputs": [
    {
     "name": "stdout",
     "output_type": "stream",
     "text": [
      "70\n"
     ]
    }
   ],
   "source": [
    "print len(Alerts_categorical.output)"
   ]
  },
  {
   "cell_type": "code",
   "execution_count": 18,
   "metadata": {},
   "outputs": [
    {
     "data": {
      "text/plain": [
       "1.0"
      ]
     },
     "execution_count": 18,
     "metadata": {},
     "output_type": "execute_result"
    }
   ],
   "source": [
    "float(float(7)/float(7))"
   ]
  },
  {
   "cell_type": "markdown",
   "metadata": {},
   "source": [
    "We see that 355 substructures from the test set can be considered as structural alerts.\n",
    "For instance:"
   ]
  },
  {
   "cell_type": "code",
   "execution_count": 19,
   "metadata": {},
   "outputs": [
    {
     "data": {
      "image/png": "[encoded data removed]",
      "text/plain": [
       "<rdkit.Chem.rdchem.Mol at 0x1141c5360>"
      ]
     },
     "execution_count": 19,
     "metadata": {},
     "output_type": "execute_result"
    }
   ],
   "source": [
    "Alerts_categorical.output['Substructure in Molecule'][0]"
   ]
  },
  {
   "cell_type": "markdown",
   "metadata": {},
   "source": [
    "The results is kept in the _pandas_ data.frame **output**.\n",
    "This data.frame has the following columns:"
   ]
  },
  {
   "cell_type": "code",
   "execution_count": 20,
   "metadata": {},
   "outputs": [
    {
     "data": {
      "text/plain": [
       "Index([u'Compound ID', u'Activity label', u'Substructure', u'Substructure in Molecule', u'p_value', u'Compounds with substr.', u'Comp. with substr. active', u'Comp. with substr. inactive'], dtype='object')"
      ]
     },
     "execution_count": 20,
     "metadata": {},
     "output_type": "execute_result"
    }
   ],
   "source": [
    "Alerts_categorical.output.columns"
   ]
  },
  {
   "cell_type": "markdown",
   "metadata": {},
   "source": [
    "Beyond all methods of the _pandas_ library, the data.frame **Alerts_categorical.output** can be written to a xlsx file:"
   ]
  },
  {
   "cell_type": "code",
   "execution_count": 21,
   "metadata": {},
   "outputs": [],
   "source": [
    "Alerts_categorical.XlSXOutputWriter(Alerts_categorical.output, \n",
    "                                    'test_set_predictions_Young_2002.xlsx')"
   ]
  },
  {
   "cell_type": "markdown",
   "metadata": {},
   "source": [
    "# C. Calculating p.values for substructures. Continuous bioactivity values"
   ]
  },
  {
   "cell_type": "markdown",
   "metadata": {},
   "source": [
    "In the following section, we are going to derive structural alerts from continuous bioactivity data (Figure 1B).\n",
    "The data set comprises the pIC50 values for 2,311 compounds on cyclooxygenase 2 (COX-2)."
   ]
  },
  {
   "cell_type": "code",
   "execution_count": 22,
   "metadata": {},
   "outputs": [
    {
     "name": "stdout",
     "output_type": "stream",
     "text": [
      "Format of the structures file = SMILES\n",
      "All molecules in the input file were processed correctly\n"
     ]
    }
   ],
   "source": [
    "molecules = bioalerts.LoadMolecules.LoadMolecules(\"./datasets/COX2.smi\",name_field=None)\n",
    "molecules.ReadMolecules()"
   ]
  },
  {
   "cell_type": "code",
   "execution_count": 23,
   "metadata": {},
   "outputs": [
    {
     "name": "stdout",
     "output_type": "stream",
     "text": [
      "2311\n",
      "2311\n"
     ]
    }
   ],
   "source": [
    "cox_bio = np.genfromtxt('./datasets/COX2.bio',skiprows=0)\n",
    "cox_bio.shape\n",
    "arr = np.arange(0,len(cox_bio))\n",
    "mask = np.ones(arr.shape,dtype=bool)\n",
    "mask[molecules.molserr]=0\n",
    "cox_bio = cox_bio[mask]\n",
    "print len(cox_bio)\n",
    "print len(molecules.mols)"
   ]
  },
  {
   "cell_type": "markdown",
   "metadata": {},
   "source": [
    "As in the previous section, we divide the data set into a training and a test set."
   ]
  },
  {
   "cell_type": "code",
   "execution_count": 24,
   "metadata": {},
   "outputs": [
    {
     "name": "stdout",
     "output_type": "stream",
     "text": [
      "2311 232 2079\n"
     ]
    }
   ],
   "source": [
    "stride = int(len(molecules.mols) * 0.9)\n",
    "training = molecules.mols[0:stride]\n",
    "test = molecules.mols[stride:len(molecules.mols)]\n",
    "print len(molecules.mols), len(test), len(training)"
   ]
  },
  {
   "cell_type": "code",
   "execution_count": 25,
   "metadata": {},
   "outputs": [
    {
     "name": "stdout",
     "output_type": "stream",
     "text": [
      "2311 232 2079\n"
     ]
    }
   ],
   "source": [
    "bio_training = cox_bio[0:stride]\n",
    "bio_test = cox_bio[stride:len(molecules.mols)]\n",
    "print len(cox_bio), len(bio_test), len(bio_training)"
   ]
  },
  {
   "cell_type": "code",
   "execution_count": 26,
   "metadata": {},
   "outputs": [],
   "source": [
    "training_dataset_info = bioalerts.LoadMolecules.GetDataSetInfo(name_field=None)\n",
    "training_dataset_info.extract_substructure_information(radii=[2,3,4,5,6],mols=training)"
   ]
  },
  {
   "cell_type": "code",
   "execution_count": 27,
   "metadata": {},
   "outputs": [],
   "source": [
    "Alerts_continuous = bioalerts.Alerts.CalculatePvaluesContinuous(radii_ext=[2,3,4,5,6])"
   ]
  },
  {
   "cell_type": "code",
   "execution_count": 28,
   "metadata": {},
   "outputs": [
    {
     "name": "stdout",
     "output_type": "stream",
     "text": [
      "number of substructures processed:  16973\n"
     ]
    }
   ],
   "source": [
    "Alerts_continuous.calculate_p_values(mols=test,\n",
    "                                     substructure_dictionary = training_dataset_info.substructure_dictionary,\n",
    "                                     bioactivities = bio_training,\n",
    "                                     mols_ids = molecules.mols_ids[0:stride],\n",
    "                                     threshold_nb_substructures = 5,\n",
    "                                     threshold_pvalue = 0.05,\n",
    "                                     threshold_ratio=0.2)"
   ]
  },
  {
   "cell_type": "markdown",
   "metadata": {},
   "source": [
    "The arguments of the method __calculate_p_values__ have the following meanings:\n",
    "\n",
    "1. **mols:** molecules from which we want to (i) calculate substructures, and (ii) compute p values.\n",
    "2. **substructure_dictionary:** reference substructure dictionary derived from the training set.\n",
    "3. **bioactivities:** bioactivities for the molecules from the training set\n",
    "4. **mols_ids:** ids for the molecules from the training set\n",
    "5. **threshold_nb_substructures:** minimum number of compounds with a given substructure required for the algorithm to proceed\n",
    "6. **threshold_pvalue:** significance level for the p values.\n",
    "7. **threshold_ratio:** minimum ratio for the number of compounds with a given substructure and the total number of compounds in the training set. If the ratio: compounds_with_substructure / total_number_of_compounds is smaller than the value input to the argument threshold_ratio, the algorithm will not consider that substructure. \n",
    "8. **Bonferroni:** whether the Bonferroni correction should be applied to the p values. The default value is True."
   ]
  },
  {
   "cell_type": "markdown",
   "metadata": {},
   "source": [
    "The logic of the algorithm is as follows:\n",
    "\n",
    "1. Take as input a series of molecules (i.e. training set) and derive a dictionary of substructures. \n",
    "    Only the substructures with a bond radius within the set of bond radius specified by the user will be considered.\n",
    "    \n",
    "2. For each substructure, S, in the molecules from a test (or external) set, do:\n",
    "    \n",
    "    2.1. If substructure S is in the reference set (derived from the training set), continue\n",
    "        \n",
    "    2.2. If the number of compounds with substructure S in the training set is higher than the value of the argument threshold_nb_substructures, continue\n",
    "        \n",
    "    2.3. If the ratio: number_compounds_with_substructure_S_training_set / total_number_of_compounds_training_set is higher than the value of the argument threshold_ratio, continue\n",
    "             \n",
    "    2.4. Compute p.value for substructure S using the Student's t test or the Kolmogorov Smirnov test."
   ]
  },
  {
   "cell_type": "code",
   "execution_count": 29,
   "metadata": {},
   "outputs": [
    {
     "data": {
      "text/plain": [
       "7"
      ]
     },
     "execution_count": 29,
     "metadata": {},
     "output_type": "execute_result"
    }
   ],
   "source": [
    "len(Alerts_continuous.output)"
   ]
  },
  {
   "cell_type": "markdown",
   "metadata": {},
   "source": [
    "With the argument values set in this case, we have only idenfied two substructures as significantly implicated in bioactivity"
   ]
  },
  {
   "cell_type": "code",
   "execution_count": 30,
   "metadata": {},
   "outputs": [
    {
     "data": {
      "image/png": "[encoded data removed]",
      "text/plain": [
       "<rdkit.Chem.rdchem.Mol at 0x1145472f0>"
      ]
     },
     "execution_count": 30,
     "metadata": {},
     "output_type": "execute_result"
    }
   ],
   "source": [
    "Alerts_continuous.output['Substructure in Molecule'][1]"
   ]
  },
  {
   "cell_type": "markdown",
   "metadata": {},
   "source": [
    "The pandas data.frame **Alerts_continuous.output** contains the following coloumns:"
   ]
  },
  {
   "cell_type": "code",
   "execution_count": 31,
   "metadata": {},
   "outputs": [
    {
     "data": {
      "text/plain": [
       "Index([u'Compound ID', u'Number compounds', u'statistic', u'p_value', u'Diff. distribution means (w - wo)', u'Compounds with substr.', u'Substructure', u'Substructure in Molecule'], dtype='object')"
      ]
     },
     "execution_count": 31,
     "metadata": {},
     "output_type": "execute_result"
    }
   ],
   "source": [
    "Alerts_continuous.output.columns"
   ]
  },
  {
   "cell_type": "markdown",
   "metadata": {},
   "source": [
    "Each row corresponds to a substructure. Given that a substructure might appear in more than one compound from the test set, some rows might refer to the same substructure but present in different molecules from the test set. In that case, the columns Compound ID would be different\n",
    "\n",
    "The columns correspond to:\n",
    "\n",
    "1. Compound ID: ID of the compound from the test set under consideration\n",
    "2. Number of compounds: total number of compounds in the training set\n",
    "3. statistic: the value for the statistic, either (i) the Kolmogorov-Smirnov test statistic, or (i) the Student's t test statistic for the substructure under consideration.\n",
    "4. p_value: p value associated to that substructure.\n",
    "5. Diff. distribution means (w - wo): difference of the mean values between the distributions of bioactivities corresponding to: (i) compounds presenting a given substructure (w), and (ii) compounds not presenting that substructure (wo).\n",
    "6. Compounds with substr.: number of compounds from the training set presenting the substructure under consideration.\n",
    "7. Substructure: depiction of the substructure\n",
    "8. Substructue in Molecule: depiction of the subtructure (in red in the ipython notebook) in the molecule under study (identified by its ID in the column 'Compound ID')."
   ]
  },
  {
   "cell_type": "markdown",
   "metadata": {},
   "source": [
    "As in the previous case, the results can be written to a .xlsx file:"
   ]
  },
  {
   "cell_type": "code",
   "execution_count": 32,
   "metadata": {
    "scrolled": true
   },
   "outputs": [],
   "source": [
    "Alerts_continuous.XlSXOutputWriter(Alerts_continuous.output,'test_continuous_COX2.xlsx')"
   ]
  },
  {
   "cell_type": "markdown",
   "metadata": {},
   "source": [
    "# D. Calculating Morgan fingerpints"
   ]
  },
  {
   "cell_type": "markdown",
   "metadata": {},
   "source": [
    "In section D of the tutorial we will see how to calculate hashed and unhashed Morgan fingerprints for a set of molecules, and will train Random Forest models on them."
   ]
  },
  {
   "cell_type": "code",
   "execution_count": 33,
   "metadata": {},
   "outputs": [],
   "source": [
    "BBB_mols = bioalerts.LoadMolecules.LoadMolecules(\"./datasets/BBB.smi\",name_field=None)"
   ]
  },
  {
   "cell_type": "code",
   "execution_count": 34,
   "metadata": {},
   "outputs": [
    {
     "name": "stdout",
     "output_type": "stream",
     "text": [
      "Format of the structures file = SMILES\n",
      "All molecules in the input file were processed correctly\n"
     ]
    }
   ],
   "source": [
    "BBB_mols.ReadMolecules()"
   ]
  },
  {
   "cell_type": "code",
   "execution_count": 35,
   "metadata": {},
   "outputs": [
    {
     "name": "stdout",
     "output_type": "stream",
     "text": [
      "157\n",
      "157\n"
     ]
    }
   ],
   "source": [
    "BBB_bio = np.genfromtxt('./datasets/BBB.bio',skiprows=0)\n",
    "print len(BBB_bio)\n",
    "print len(BBB_mols.mols)"
   ]
  },
  {
   "cell_type": "code",
   "execution_count": 36,
   "metadata": {},
   "outputs": [
    {
     "name": "stdout",
     "output_type": "stream",
     "text": [
      "157 16 141\n",
      "157 16 141\n"
     ]
    }
   ],
   "source": [
    "stride = int(len(BBB_mols.mols) * 0.9)\n",
    "training = BBB_mols.mols[0:stride]\n",
    "test = BBB_mols.mols[stride:len(BBB_mols.mols)]\n",
    "print len(BBB_mols.mols), len(test), len(training)\n",
    "\n",
    "bio_training = BBB_bio[0:stride]\n",
    "bio_test = BBB_bio[stride:len(BBB_mols.mols)]\n",
    "print len(BBB_bio), len(bio_test), len(bio_training)"
   ]
  },
  {
   "cell_type": "markdown",
   "metadata": {},
   "source": [
    "### D.1 Computating HASHED Morgan fingerprints for the TRAINING set: "
   ]
  },
  {
   "cell_type": "markdown",
   "metadata": {},
   "source": [
    "We first initialize the class *bioalerts.FPCalculator.CalculateFPs()*"
   ]
  },
  {
   "cell_type": "code",
   "execution_count": 37,
   "metadata": {},
   "outputs": [],
   "source": [
    "fps_training = bioalerts.FPCalculator.CalculateFPs(radii=[0,1,2],mols=training)"
   ]
  },
  {
   "cell_type": "code",
   "execution_count": 38,
   "metadata": {},
   "outputs": [],
   "source": [
    "fps_training.calculate_hashed_fps_binary_quick(nBits=128)"
   ]
  },
  {
   "cell_type": "code",
   "execution_count": 39,
   "metadata": {},
   "outputs": [
    {
     "name": "stdout",
     "output_type": "stream",
     "text": [
      "(141, 128)\n"
     ]
    }
   ],
   "source": [
    "print fps_training.fps_hashed_binary_quick.shape"
   ]
  },
  {
   "cell_type": "markdown",
   "metadata": {},
   "source": [
    "The method *calculate_hashed_fps_binary_quick()* considers all substructures with a bond radius smaller or equal to\n",
    "the maximum value of the argument *radii*. In this example, 2. \n",
    "Thus, in this case this method will consider all substructures with a bond radius of 0, 1 and 2."
   ]
  },
  {
   "cell_type": "code",
   "execution_count": 40,
   "metadata": {
    "collapsed": true
   },
   "outputs": [],
   "source": [
    "fps_training.calculate_hashed_fps(nBits=128)"
   ]
  },
  {
   "cell_type": "code",
   "execution_count": 41,
   "metadata": {},
   "outputs": [
    {
     "name": "stdout",
     "output_type": "stream",
     "text": [
      "(141, 128)\n",
      "(141, 128)\n"
     ]
    }
   ],
   "source": [
    "print fps_training.fps_hashed_binary.shape\n",
    "print fps_training.fps_hashed_counts.shape"
   ]
  },
  {
   "cell_type": "markdown",
   "metadata": {},
   "source": [
    "The method *calculate_hashed_fps()* computes hashed fingerpints in (i) count and (ii) also binary format. The difference \n",
    "of the  method *calculate_hashed_fps()* with respect to the method *calculate_hashed_fps_binary_quick()* is that\n",
    "the former only consider the substructures with a bond radius in the list input to the argument radii when instantiating the class\n",
    "*bioalerts.FPCalculator.CalculateFPs()*. In the example above: [1,2].\n",
    "\n",
    "Therefore, the hashed fingerprints in binary format calculated by these two methods will be identical if the bond radii\n",
    "especified in the aforesaid argument radii comprise all natural number from 0 to the maximum bond radius.\n",
    "In this example, this would be correspond to setting the value of the argument radii to [0,1,2]."
   ]
  },
  {
   "cell_type": "code",
   "execution_count": 42,
   "metadata": {},
   "outputs": [
    {
     "name": "stdout",
     "output_type": "stream",
     "text": [
      "True\n"
     ]
    }
   ],
   "source": [
    "print (fps_training.fps_hashed_binary_quick == fps_training.fps_hashed_binary).all()"
   ]
  },
  {
   "cell_type": "code",
   "execution_count": 43,
   "metadata": {},
   "outputs": [
    {
     "data": {
      "text/plain": [
       "array([[0, 0, 1, 1, 0, 0, 0, 1, 0],\n",
       "       [0, 0, 1, 0, 0, 0, 0, 2, 0],\n",
       "       [0, 0, 0, 3, 0, 0, 0, 3, 0],\n",
       "       [0, 0, 0, 0, 0, 1, 0, 3, 0],\n",
       "       [0, 0, 0, 1, 0, 0, 0, 3, 1],\n",
       "       [1, 0, 0, 0, 1, 1, 0, 0, 0],\n",
       "       [0, 0, 1, 0, 0, 1, 0, 1, 0],\n",
       "       [0, 0, 0, 0, 0, 0, 0, 3, 1],\n",
       "       [0, 0, 0, 0, 1, 0, 0, 1, 0]])"
      ]
     },
     "execution_count": 43,
     "metadata": {},
     "output_type": "execute_result"
    }
   ],
   "source": [
    "toto = fps_training.fps_hashed_counts\n",
    "toto[1:10,1:10]"
   ]
  },
  {
   "cell_type": "code",
   "execution_count": 44,
   "metadata": {},
   "outputs": [
    {
     "data": {
      "text/plain": [
       "array([[0, 0, 1, 1, 0, 0, 0, 1, 0],\n",
       "       [0, 0, 1, 0, 0, 0, 0, 1, 0],\n",
       "       [0, 0, 0, 1, 0, 0, 0, 1, 0],\n",
       "       [0, 0, 0, 0, 0, 1, 0, 1, 0],\n",
       "       [0, 0, 0, 1, 0, 0, 0, 1, 1],\n",
       "       [1, 0, 0, 0, 1, 1, 0, 0, 0],\n",
       "       [0, 0, 1, 0, 0, 1, 0, 1, 0],\n",
       "       [0, 0, 0, 0, 0, 0, 0, 1, 1],\n",
       "       [0, 0, 0, 0, 1, 0, 0, 1, 0]])"
      ]
     },
     "execution_count": 44,
     "metadata": {},
     "output_type": "execute_result"
    }
   ],
   "source": [
    "fps_training.fps_hashed_binary[1:10,1:10]"
   ]
  },
  {
   "cell_type": "code",
   "execution_count": 45,
   "metadata": {},
   "outputs": [
    {
     "data": {
      "text/plain": [
       "array([[0, 0, 1, 1, 0, 0, 0, 1, 0],\n",
       "       [0, 0, 1, 0, 0, 0, 0, 1, 0],\n",
       "       [0, 0, 0, 1, 0, 0, 0, 1, 0],\n",
       "       [0, 0, 0, 0, 0, 1, 0, 1, 0],\n",
       "       [0, 0, 0, 1, 0, 0, 0, 1, 1],\n",
       "       [1, 0, 0, 0, 1, 1, 0, 0, 0],\n",
       "       [0, 0, 1, 0, 0, 1, 0, 1, 0],\n",
       "       [0, 0, 0, 0, 0, 0, 0, 1, 1],\n",
       "       [0, 0, 0, 0, 1, 0, 0, 1, 0]])"
      ]
     },
     "execution_count": 45,
     "metadata": {},
     "output_type": "execute_result"
    }
   ],
   "source": [
    "fps_training.fps_hashed_binary_quick[1:10,1:10]"
   ]
  },
  {
   "cell_type": "markdown",
   "metadata": {},
   "source": [
    "### D.2 Computating UNHASHED Morgan fingerprints for the TRAINING set: "
   ]
  },
  {
   "cell_type": "code",
   "execution_count": 46,
   "metadata": {},
   "outputs": [
    {
     "name": "stdout",
     "output_type": "stream",
     "text": [
      "No input set of keys for the substructures. \n",
      "Thus, the substructures present in the input molecules will be considered for the calculation of unhashed fingerprints.\n"
     ]
    }
   ],
   "source": [
    "fps_training.calculate_unhashed_fps(draw_substructures=True)"
   ]
  },
  {
   "cell_type": "markdown",
   "metadata": {
    "collapsed": true
   },
   "source": [
    "### D.3 Computating Morgan fingerprints for the TEST set: "
   ]
  },
  {
   "cell_type": "markdown",
   "metadata": {
    "collapsed": true
   },
   "source": [
    "#### D.3.1 Computating UNHASHED Morgan fingerprints for the test set using a different set of molecules: "
   ]
  },
  {
   "cell_type": "markdown",
   "metadata": {},
   "source": [
    "Since the positions of the substructures in the unhashed fingerprints depend on the training set, the method *calculate_unhashed_fps()* allows the computation of unhashed fingerprints for new compounds using a basis defined by the substructures present in the training set. This basis is defined by the keys of the substructure dictionary calculated for the molecules from the training set. This reference substructure dictionary is input to the class *CalculateFPs()* using the argument reference_substucture_keys. \n",
    "\n",
    "This ensures that substructures in new compounds map to the same locations on the fingerprint and allows enhanced model interpretation by noting which exact substructures are deemed important by the learning algorithm."
   ]
  },
  {
   "cell_type": "code",
   "execution_count": 47,
   "metadata": {
    "collapsed": true
   },
   "outputs": [],
   "source": [
    "#  Reference molecules\n",
    "reference_molecules = bioalerts.LoadMolecules.GetDataSetInfo(name_field=None)"
   ]
  },
  {
   "cell_type": "code",
   "execution_count": 48,
   "metadata": {},
   "outputs": [
    {
     "data": {
      "text/plain": [
       "array([4272690567, 3416859016, 3818546315, ..., 1182622762, 3218693969,\n",
       "       3777168895])"
      ]
     },
     "execution_count": 48,
     "metadata": {},
     "output_type": "execute_result"
    }
   ],
   "source": [
    "fps_training.substructure_ids"
   ]
  },
  {
   "cell_type": "code",
   "execution_count": 49,
   "metadata": {},
   "outputs": [],
   "source": [
    "reference_molecules.extract_substructure_information(radii=[0,1,2],mols=training)"
   ]
  },
  {
   "cell_type": "code",
   "execution_count": 50,
   "metadata": {},
   "outputs": [
    {
     "name": "stdout",
     "output_type": "stream",
     "text": [
      "1456\n"
     ]
    }
   ],
   "source": [
    "reference_keys = reference_molecules.substructure_dictionary.keys()\n",
    "print len(reference_keys)"
   ]
  },
  {
   "cell_type": "code",
   "execution_count": 51,
   "metadata": {},
   "outputs": [],
   "source": [
    "fps_test = bioalerts.FPCalculator.CalculateFPs(radii=[0,1,2],\n",
    "                                         mols=test,\n",
    "                                         reference_substructure_keys=reference_keys)"
   ]
  },
  {
   "cell_type": "code",
   "execution_count": 52,
   "metadata": {},
   "outputs": [],
   "source": [
    "fps_test.calculate_unhashed_fps()"
   ]
  },
  {
   "cell_type": "code",
   "execution_count": 53,
   "metadata": {},
   "outputs": [
    {
     "data": {
      "text/plain": [
       "(16, 1456)"
      ]
     },
     "execution_count": 53,
     "metadata": {},
     "output_type": "execute_result"
    }
   ],
   "source": [
    "fps_test.fps_unhashed_counts.shape"
   ]
  },
  {
   "cell_type": "code",
   "execution_count": 54,
   "metadata": {},
   "outputs": [
    {
     "data": {
      "text/plain": [
       "1456"
      ]
     },
     "execution_count": 54,
     "metadata": {},
     "output_type": "execute_result"
    }
   ],
   "source": [
    "len(fps_training.columns_unhashed)"
   ]
  },
  {
   "cell_type": "markdown",
   "metadata": {
    "collapsed": true
   },
   "source": [
    "#### D.3.2 Computating HASHED Morgan fingerprints for the test set (e.g. using a different set of molecules): "
   ]
  },
  {
   "cell_type": "code",
   "execution_count": 55,
   "metadata": {},
   "outputs": [],
   "source": [
    "fps_test.calculate_hashed_fps(nBits=128)"
   ]
  },
  {
   "cell_type": "markdown",
   "metadata": {
    "collapsed": true
   },
   "source": [
    "### D.4 Training a Random Forest (RF) model: "
   ]
  },
  {
   "cell_type": "markdown",
   "metadata": {},
   "source": [
    "Two RF models are next trained, using hashed and unhashed Morgan fps, respectively, in count format in both cases."
   ]
  },
  {
   "cell_type": "markdown",
   "metadata": {},
   "source": [
    "#### D.4.1 Using hashed fps "
   ]
  },
  {
   "cell_type": "code",
   "execution_count": 56,
   "metadata": {},
   "outputs": [
    {
     "data": {
      "text/plain": [
       "RandomForestRegressor(bootstrap=True, criterion='mse', max_depth=None,\n",
       "           max_features='auto', max_leaf_nodes=None, min_samples_leaf=1,\n",
       "           min_samples_split=2, min_weight_fraction_leaf=0.0,\n",
       "           n_estimators=100, n_jobs=2, oob_score=False, random_state=23,\n",
       "           verbose=0, warm_start=False)"
      ]
     },
     "execution_count": 56,
     "metadata": {},
     "output_type": "execute_result"
    }
   ],
   "source": [
    "seed = 23\n",
    "model_hashed_counts = RandomForestRegressor(n_estimators=100,random_state=seed,n_jobs=2)\n",
    "model_hashed_counts.fit(fps_training.fps_hashed_counts,bio_training)"
   ]
  },
  {
   "cell_type": "markdown",
   "metadata": {
    "collapsed": true
   },
   "source": [
    "#### D.4.2 Using unhashed fps"
   ]
  },
  {
   "cell_type": "code",
   "execution_count": 57,
   "metadata": {},
   "outputs": [
    {
     "data": {
      "text/plain": [
       "RandomForestRegressor(bootstrap=True, criterion='mse', max_depth=None,\n",
       "           max_features='auto', max_leaf_nodes=None, min_samples_leaf=1,\n",
       "           min_samples_split=2, min_weight_fraction_leaf=0.0,\n",
       "           n_estimators=100, n_jobs=2, oob_score=False, random_state=23,\n",
       "           verbose=0, warm_start=False)"
      ]
     },
     "execution_count": 57,
     "metadata": {},
     "output_type": "execute_result"
    }
   ],
   "source": [
    "seed = 23\n",
    "model_UNhashed_counts = RandomForestRegressor(n_estimators=100,random_state=seed,n_jobs=2)\n",
    "model_UNhashed_counts.fit(fps_training.fps_unhashed_counts,bio_training)"
   ]
  },
  {
   "cell_type": "markdown",
   "metadata": {
    "collapsed": true
   },
   "source": [
    "### D.5 Predict the bioactivities for the test set: "
   ]
  },
  {
   "cell_type": "markdown",
   "metadata": {},
   "source": [
    "We define two functions for validating our predictions, namely: Pearson's correlation coefficient (R2) and root mean squared errro (RMSE)"
   ]
  },
  {
   "cell_type": "code",
   "execution_count": 58,
   "metadata": {
    "collapsed": true
   },
   "outputs": [],
   "source": [
    "def Rsquared(pred,true):\n",
    "    slope, intercept, r_value, p_value, std_err = scipy.stats.linregress(true,pred)\n",
    "    return r_value**2\n",
    "\n",
    "def RMSE(pred,true):\n",
    "    rmse = np.sqrt(mean_squared_error(true,pred))\n",
    "    return rmse"
   ]
  },
  {
   "cell_type": "markdown",
   "metadata": {
    "collapsed": true
   },
   "source": [
    "#### D.5.1 Using the model trained on HASHED fps: "
   ]
  },
  {
   "cell_type": "code",
   "execution_count": 59,
   "metadata": {},
   "outputs": [],
   "source": [
    "preds_hashed = model_hashed_counts.predict(fps_test.fps_hashed_counts)"
   ]
  },
  {
   "cell_type": "markdown",
   "metadata": {},
   "source": [
    "#### D.5.2 Using the model trained on UNHASHED fps: "
   ]
  },
  {
   "cell_type": "code",
   "execution_count": 60,
   "metadata": {},
   "outputs": [],
   "source": [
    "preds_UNhashed = model_UNhashed_counts.predict(fps_test.fps_unhashed_counts)                                         "
   ]
  },
  {
   "cell_type": "markdown",
   "metadata": {},
   "source": [
    "### D.6 Model validation: "
   ]
  },
  {
   "cell_type": "code",
   "execution_count": 61,
   "metadata": {},
   "outputs": [
    {
     "name": "stdout",
     "output_type": "stream",
     "text": [
      "RMSE hashed fps:  0.395223932925\n",
      "RMSE UNhashed fps:  0.395178569569\n"
     ]
    }
   ],
   "source": [
    "print \"RMSE hashed fps: \", RMSE(preds_hashed, bio_test)\n",
    "print \"RMSE UNhashed fps: \", RMSE(preds_UNhashed, bio_test)"
   ]
  },
  {
   "cell_type": "code",
   "execution_count": 62,
   "metadata": {},
   "outputs": [
    {
     "name": "stdout",
     "output_type": "stream",
     "text": [
      "R2 hashed fps:  0.64806507977\n",
      "R2 UNhashed fps:  0.611070510232\n"
     ]
    }
   ],
   "source": [
    "print \"R2 hashed fps: \", Rsquared(preds_hashed, bio_test)\n",
    "print \"R2 UNhashed fps: \", Rsquared(preds_UNhashed, bio_test)"
   ]
  },
  {
   "cell_type": "code",
   "execution_count": 63,
   "metadata": {},
   "outputs": [
    {
     "name": "stdout",
     "output_type": "stream",
     "text": [
      "Running time of the whole tutorial in minutes:  1.6\n"
     ]
    }
   ],
   "source": [
    "print \"Running time of the whole tutorial in minutes: \", round(time.clock() - initial_time)/60"
   ]
  },
  {
   "cell_type": "markdown",
   "metadata": {},
   "source": [
    "                                \n",
    "                                \n",
    "                                      **END OF THE TUTORIAL**\n",
    "                                \n",
    "         For any doubts or suggestions, please contact me at isidrolauscher [] gmail [] com"
   ]
  }
 ],
 "metadata": {
  "kernelspec": {
   "display_name": "Python 3",
   "language": "python",
   "name": "python3"
  },
  "language_info": {
   "codemirror_mode": {
    "name": "ipython",
    "version": 3
   },
   "file_extension": ".py",
   "mimetype": "text/x-python",
   "name": "python",
   "nbconvert_exporter": "python",
   "pygments_lexer": "ipython3",
   "version": "3.7.4"
  },
  "toc": {
   "base_numbering": 1,
   "nav_menu": {},
   "number_sections": true,
   "sideBar": false,
   "skip_h1_title": false,
   "title_cell": "Table of Contents",
   "title_sidebar": "Contents",
   "toc_cell": false,
   "toc_position": {},
   "toc_section_display": true,
   "toc_window_display": false
  }
 },
 "nbformat": 4,
 "nbformat_minor": 1
}
