{
 "cells": [
  {
   "cell_type": "markdown",
   "metadata": {},
   "source": [
    "### **bioalerts: A Python Package for the Derivation of Structural Alerts from Bioactivity Data Sets**\n",
    "\n",
    "\n",
    "Isidro Cortés Ciriano (isidrolauscher@gmail.com). 2015-2016.\n",
    "\n"
   ]
  },
  {
   "cell_type": "markdown",
   "metadata": {},
   "source": [
    "This notebook serves to compare the **bioalerts** implementation for the derivation of structural alerts from categorical data to the original paper by Ahlberg et al. (J. Chem. Inf. Model., 2014, 54 (10), pp 2945–2952).\n",
    "\n",
    "The only differences between both methods are related to how the substructures are generated. Bioalerts computes substructures using Morgan fingerprints as implemented in the rdkit (rdkit.org). See the main text for further details.\n",
    "\n",
    "Here, we use the same training and test data sets used in Ahlberg et al. "
   ]
  },
  {
   "cell_type": "markdown",
   "metadata": {},
   "source": [
    "Firstly, import **bioalerts** and other packages required for this tutorial.\n",
    "\n",
    "\n",
    "Note: do not forget to add the path to your python envirnonment variable, e.g.:\n",
    "export PYTHONPATH=$PYTHONPATH:/usr/local/share/RDKit:/Users/user1/Desktop/bioalerts/"
   ]
  },
  {
   "cell_type": "code",
   "execution_count": 1,
   "metadata": {
    "collapsed": false
   },
   "outputs": [],
   "source": [
    "import bioalerts\n",
    "import numpy as np"
   ]
  },
  {
   "cell_type": "code",
   "execution_count": 2,
   "metadata": {
    "collapsed": false
   },
   "outputs": [],
   "source": [
    "from bioalerts import LoadMolecules, Alerts, FPCalculator"
   ]
  },
  {
   "cell_type": "code",
   "execution_count": 3,
   "metadata": {
    "collapsed": false
   },
   "outputs": [],
   "source": [
    "from rdkit.Chem.Draw import IPythonConsole\n",
    "from rdkit.Chem import PandasTools\n",
    "import time"
   ]
  },
  {
   "cell_type": "markdown",
   "metadata": {},
   "source": [
    "This notebook was run with the following python and module versions:"
   ]
  },
  {
   "cell_type": "code",
   "execution_count": 4,
   "metadata": {
    "collapsed": false
   },
   "outputs": [
    {
     "name": "stdout",
     "output_type": "stream",
     "text": [
      " Python: 2.7.2 (default, Oct 11 2012, 20:14:37) \n",
      "[GCC 4.2.1 Compatible Apple Clang 4.0 (tags/Apple/clang-418.0.60)] \n",
      "\n",
      " Numpy: 1.9.2\n",
      " Scipy: 0.16.0\n",
      " Rdkit: 2014.09.2\n",
      " Matplotlib: 1.4.3\n",
      " Pandas: 0.15.2\n",
      " Ipython: 3.0.0\n"
     ]
    }
   ],
   "source": [
    "import sys, numpy as np, scipy as sc, rdkit, matplotlib as pylab, pandas as pd, IPython\n",
    "print \" Python:\", sys.version, \"\\n\"\n",
    "print \" Numpy:\", np.__version__\n",
    "print \" Scipy:\", sc.__version__\n",
    "print \" Rdkit:\", rdkit.rdBase.rdkitVersion\n",
    "print \" Matplotlib:\", pylab.__version__\n",
    "print \" Pandas:\", pd.__version__\n",
    "print \" Ipython:\", IPython.__version__"
   ]
  },
  {
   "cell_type": "code",
   "execution_count": 5,
   "metadata": {
    "collapsed": false
   },
   "outputs": [
    {
     "name": "stdout",
     "output_type": "stream",
     "text": [
      "Format of the structures file = SMILES\n",
      "All molecules in the input file were processed correctly\n",
      "Total number of input molecules:  4254\n"
     ]
    }
   ],
   "source": [
    "training = bioalerts.LoadMolecules.LoadMolecules(\"./datasets/training_Ahlberg.smi\",delimiter=\"\\t\",name_field=None)\n",
    "                                               \n",
    "training.ReadMolecules(titleLine=False,smilesColumn=0,nameColumn=1)\n",
    "print \"Total number of input molecules: \", len(training.mols)"
   ]
  },
  {
   "cell_type": "code",
   "execution_count": 6,
   "metadata": {
    "collapsed": false
   },
   "outputs": [
    {
     "name": "stdout",
     "output_type": "stream",
     "text": [
      "Format of the structures file = SMILES\n",
      "2 molecules (starting at zero) could not be processed.\n",
      "\n",
      "This information has been saved in the following file: incorrect_molecules.csv\n",
      "\n",
      "NOTE: the indexes of the molecules start at zero. Thus the first molecule is molecule 0.\n",
      "Total number of input molecules:  830\n"
     ]
    }
   ],
   "source": [
    "test = bioalerts.LoadMolecules.LoadMolecules(\"./datasets/test_Ahlberg.smi\",delimiter=\"\\t\",name_field=None)\n",
    "test.ReadMolecules(titleLine=True)\n",
    "print \"Total number of input molecules: \", len(test.mols)"
   ]
  },
  {
   "cell_type": "markdown",
   "metadata": {},
   "source": [
    "In this particular case, the second column of the smiles file contains the labels (positive or negative) instead of the molecule names, which are generally in the column. This is the reason why the variable **mol_ids** contains the labels."
   ]
  },
  {
   "cell_type": "markdown",
   "metadata": {},
   "source": [
    "Load the labels for the training and test sets"
   ]
  },
  {
   "cell_type": "code",
   "execution_count": 7,
   "metadata": {
    "collapsed": true
   },
   "outputs": [],
   "source": [
    "labels_training = np.genfromtxt('./datasets/training_Ahlberg_activities.txt',\n",
    "                              dtype='str',\n",
    "                              skip_header=0,\n",
    "                              usecols=0)\n",
    "arr = np.arange(0,len(labels_training))\n",
    "mask = np.ones(arr.shape,dtype=bool)\n",
    "mask[training.molserr]=0\n",
    "labels_training =  labels_training[mask]"
   ]
  },
  {
   "cell_type": "code",
   "execution_count": 8,
   "metadata": {
    "collapsed": true
   },
   "outputs": [],
   "source": [
    "labels_test = np.genfromtxt('./datasets/test_Ahlberg_activities.txt',\n",
    "                              dtype='str',\n",
    "                              skip_header=0,\n",
    "                              usecols=0)\n",
    "arr = np.arange(0,len(labels_test))\n",
    "mask = np.ones(arr.shape,dtype=bool)\n",
    "mask[test.molserr]=0\n",
    "labels_test =  labels_test[mask]"
   ]
  },
  {
   "cell_type": "code",
   "execution_count": 9,
   "metadata": {
    "collapsed": false
   },
   "outputs": [
    {
     "name": "stdout",
     "output_type": "stream",
     "text": [
      "4254 830\n"
     ]
    }
   ],
   "source": [
    "print len(labels_training), len(labels_test)"
   ]
  },
  {
   "cell_type": "markdown",
   "metadata": {},
   "source": [
    "Next, we are going to extract the substructure information from the molecules contained in the training set."
   ]
  },
  {
   "cell_type": "code",
   "execution_count": 10,
   "metadata": {
    "collapsed": false
   },
   "outputs": [],
   "source": [
    "training_set_info = bioalerts.LoadMolecules.GetDataSetInfo(name_field=None)"
   ]
  },
  {
   "cell_type": "code",
   "execution_count": 11,
   "metadata": {
    "collapsed": false
   },
   "outputs": [
    {
     "name": "stdout",
     "output_type": "stream",
     "text": [
      "2.48333333333  minutes\n"
     ]
    }
   ],
   "source": [
    "initial_time = time.clock()\n",
    "training_set_info.extract_substructure_information(radii=[1,2,3,4],mols=training.mols)\n",
    "print round(time.clock() - initial_time)/60, \" minutes\""
   ]
  },
  {
   "cell_type": "code",
   "execution_count": 12,
   "metadata": {
    "collapsed": false
   },
   "outputs": [
    {
     "name": "stdout",
     "output_type": "stream",
     "text": [
      "Number of substructures processed:  37035\n",
      "Significant substructures:  1025 substructures\n",
      "0.816666666667  minutes\n"
     ]
    }
   ],
   "source": [
    "initial_time = time.clock()\n",
    "# the maximum radius corresponds to the maximum value in the list radii used above (i.e. [2,3,4])\n",
    "Alerts_categorical_70 = bioalerts.Alerts.CalculatePvaluesCategorical(max_radius=4)\n",
    "\n",
    "\n",
    "Alerts_categorical_70.calculate_p_values(mols=test.mols,\n",
    "                                      substructure_dictionary=training_set_info.substructure_dictionary,\n",
    "                                      bioactivities=labels_training,\n",
    "                                      mols_ids=training.mols_ids,\n",
    "                                      threshold_nb_substructures = 5,\n",
    "                                      threshold_pvalue = 0.05,\n",
    "                                      threshold_frequency = 0.7,\n",
    "                                      Bonferroni=False,\n",
    "                                      active_label='POS',\n",
    "                                      inactive_label='NEG')\n",
    "print round(time.clock() - initial_time)/60, \" minutes\""
   ]
  },
  {
   "cell_type": "code",
   "execution_count": 15,
   "metadata": {
    "collapsed": false
   },
   "outputs": [
    {
     "name": "stdout",
     "output_type": "stream",
     "text": [
      "Number of substructures processed:  37035\n",
      "Significant substructures:  823 substructures\n",
      "0.883333333333  minutes\n"
     ]
    }
   ],
   "source": [
    "initial_time = time.clock()\n",
    "Alerts_categorical_80 = bioalerts.Alerts.CalculatePvaluesCategorical(max_radius=4)\n",
    "\n",
    "\n",
    "Alerts_categorical_80.calculate_p_values(mols=test.mols,\n",
    "                                      substructure_dictionary=training_set_info.substructure_dictionary,\n",
    "                                      bioactivities=labels_training,\n",
    "                                      mols_ids=training.mols_ids,\n",
    "                                      threshold_nb_substructures = 5,\n",
    "                                      threshold_pvalue = 0.05,\n",
    "                                      threshold_frequency = 0.8,\n",
    "                                      Bonferroni=False,\n",
    "                                      active_label='POS',\n",
    "                                      inactive_label='NEG')\n",
    "print round(time.clock() - initial_time)/60, \" minutes\""
   ]
  },
  {
   "cell_type": "code",
   "execution_count": 16,
   "metadata": {
    "collapsed": false
   },
   "outputs": [
    {
     "name": "stdout",
     "output_type": "stream",
     "text": [
      "Number of substructures processed:  37035\n",
      "Significant substructures:  526 substructures\n",
      "0.8  minutes\n"
     ]
    }
   ],
   "source": [
    "initial_time = time.clock()\n",
    "Alerts_categorical_80_Bonferroni_True = bioalerts.Alerts.CalculatePvaluesCategorical(max_radius=4)\n",
    "\n",
    "\n",
    "Alerts_categorical_80_Bonferroni_True.calculate_p_values(mols=test.mols,\n",
    "                                      substructure_dictionary=training_set_info.substructure_dictionary,\n",
    "                                      bioactivities=labels_training,\n",
    "                                      mols_ids=training.mols_ids,\n",
    "                                      threshold_nb_substructures = 5,\n",
    "                                      threshold_pvalue = 0.05,\n",
    "                                      threshold_frequency = 0.8,\n",
    "                                      Bonferroni=True,\n",
    "                                      active_label='POS',\n",
    "                                      inactive_label='NEG')\n",
    "print round(time.clock() - initial_time)/60, \" minutes\""
   ]
  },
  {
   "cell_type": "markdown",
   "metadata": {},
   "source": [
    "In Ahlberg et al. JCIM 2014, it was stated that:  \n",
    "\n",
    "\"For the 70% case, 17600 signatures were analyzed and 985 of those found significant, and for the 80% case, 24300\n",
    "signatures were evaluated and 1137 found significant. When applying the Benjamini Hochberg procedure, the number of significant signatures was reduced to 133.\"\n",
    "\n",
    "Here we find (when considering substructures of radius 1, 2, 3, 4): "
   ]
  },
  {
   "cell_type": "code",
   "execution_count": 17,
   "metadata": {
    "collapsed": false
   },
   "outputs": [
    {
     "name": "stdout",
     "output_type": "stream",
     "text": [
      "1025\n",
      "823\n",
      "526\n"
     ]
    }
   ],
   "source": [
    "print len(Alerts_categorical_70.output) # Bonferroni False; \n",
    "print len(Alerts_categorical_80.output) # Bonferroni False\n",
    "print len(Alerts_categorical_80_Bonferroni_True.output) # Bonferroni False"
   ]
  },
  {
   "cell_type": "markdown",
   "metadata": {},
   "source": [
    "Overall, these numbers are comparable considering the differences with respect to the generation of compound substructures. "
   ]
  },
  {
   "cell_type": "markdown",
   "metadata": {},
   "source": [
    "                                \n",
    "                                \n",
    "                                              **END**\n",
    "                                \n",
    "         For any doubts or suggestions, please contact me at isidrolauscher [] gmail [] com"
   ]
  }
 ],
 "metadata": {
  "kernelspec": {
   "display_name": "Python 2",
   "language": "python",
   "name": "python2"
  },
  "language_info": {
   "codemirror_mode": {
    "name": "ipython",
    "version": 2
   },
   "file_extension": ".py",
   "mimetype": "text/x-python",
   "name": "python",
   "nbconvert_exporter": "python",
   "pygments_lexer": "ipython2",
   "version": "2.7.2"
  }
 },
 "nbformat": 4,
 "nbformat_minor": 0
}
